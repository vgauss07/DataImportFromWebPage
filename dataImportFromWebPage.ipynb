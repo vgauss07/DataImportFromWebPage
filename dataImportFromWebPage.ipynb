{
 "cells": [
  {
   "cell_type": "markdown",
   "source": [
    "## Import Libraries"
   ],
   "metadata": {
    "collapsed": false
   }
  },
  {
   "cell_type": "code",
   "execution_count": 1,
   "outputs": [],
   "source": [
    "import pandas as pd\n",
    "import numpy as np\n",
    "import json\n",
    "import pprint\n",
    "import requests\n",
    "from bs4 import BeautifulSoup"
   ],
   "metadata": {
    "collapsed": false,
    "ExecuteTime": {
     "end_time": "2023-05-23T17:50:53.512748Z",
     "start_time": "2023-05-23T17:50:52.590296Z"
    }
   }
  },
  {
   "cell_type": "code",
   "execution_count": 2,
   "outputs": [],
   "source": [
    "webPage = requests.get(\"http://www.alrb.org/datacleaning/covidcaseoutliers.html\")"
   ],
   "metadata": {
    "collapsed": false,
    "ExecuteTime": {
     "end_time": "2023-05-23T17:51:43.427726Z",
     "start_time": "2023-05-23T17:51:41.962999Z"
    }
   }
  },
  {
   "cell_type": "code",
   "execution_count": 3,
   "outputs": [],
   "source": [
    "bs = BeautifulSoup(webPage.text, 'html.parser')"
   ],
   "metadata": {
    "collapsed": false,
    "ExecuteTime": {
     "end_time": "2023-05-23T17:52:06.841166Z",
     "start_time": "2023-05-23T17:52:06.783168Z"
    }
   }
  },
  {
   "cell_type": "code",
   "execution_count": 4,
   "outputs": [],
   "source": [
    "theadRows = bs.find('table', {'id':'tblDeaths'}).thead.find_all('th') # retrieving all elements nested within the 'th' elements for that table"
   ],
   "metadata": {
    "collapsed": false,
    "ExecuteTime": {
     "end_time": "2023-05-23T17:53:35.308662Z",
     "start_time": "2023-05-23T17:53:35.302976Z"
    }
   }
  },
  {
   "cell_type": "code",
   "execution_count": 5,
   "outputs": [],
   "source": [
    "labelcols = [j.get_text() for j in theadRows]\n",
    "labelcols[0] = \"rowheadings\""
   ],
   "metadata": {
    "collapsed": false,
    "ExecuteTime": {
     "end_time": "2023-05-23T17:54:17.356081Z",
     "start_time": "2023-05-23T17:54:17.350850Z"
    }
   }
  },
  {
   "cell_type": "code",
   "execution_count": 6,
   "outputs": [
    {
     "data": {
      "text/plain": "['rowheadings',\n 'Cases',\n 'Deaths',\n 'Cases per Million',\n 'Deaths per Million',\n 'population',\n 'population_density',\n 'median_age',\n 'gdp_per_capita',\n 'hospital_beds_per_100k']"
     },
     "execution_count": 6,
     "metadata": {},
     "output_type": "execute_result"
    }
   ],
   "source": [
    "labelcols"
   ],
   "metadata": {
    "collapsed": false,
    "ExecuteTime": {
     "end_time": "2023-05-23T17:54:21.566407Z",
     "start_time": "2023-05-23T17:54:21.545771Z"
    }
   }
  },
  {
   "cell_type": "code",
   "execution_count": 10,
   "outputs": [
    {
     "name": "stdout",
     "output_type": "stream",
     "text": [
      "[['9,394', '653', '214', '15', '43,851,043', '17', '29', '13,914', '1.9'],\n",
      " ['16,642', '668', '1848', '74', '9,006,400', '107', '44', '45,437', '7.4']]\n",
      "['Algeria', 'Austria']\n"
     ]
    }
   ],
   "source": [
    "rows = bs.find('table', {'id':'tblDeaths'}).tbody.find_all('tr')\n",
    "datarows = []\n",
    "labelrows = []\n",
    "for row in rows:\n",
    "    rowLabels = row.find('th').get_text()\n",
    "    cells = row.find_all('td', {'class':'data'})\n",
    "    if (len(rowLabels) > 3):\n",
    "        labelrows.append(rowLabels)\n",
    "    if (len(cells) > 0):\n",
    "        cellvalues = [j.get_text() for j in cells]\n",
    "        datarows.append(cellvalues)\n",
    "\n"
   ],
   "metadata": {
    "collapsed": false,
    "ExecuteTime": {
     "end_time": "2023-05-24T02:46:27.605113Z",
     "start_time": "2023-05-24T02:46:27.596313Z"
    }
   }
  },
  {
   "cell_type": "code",
   "execution_count": 11,
   "outputs": [
    {
     "name": "stdout",
     "output_type": "stream",
     "text": [
      "[['9,394', '653', '214', '15', '43,851,043', '17', '29', '13,914', '1.9'],\n",
      " ['16,642', '668', '1848', '74', '9,006,400', '107', '44', '45,437', '7.4']]\n",
      "['Algeria', 'Austria']\n",
      "[['Algeria',\n",
      "  '9,394',\n",
      "  '653',\n",
      "  '214',\n",
      "  '15',\n",
      "  '43,851,043',\n",
      "  '17',\n",
      "  '29',\n",
      "  '13,914',\n",
      "  '1.9']]\n"
     ]
    }
   ],
   "source": [
    "pprint.pprint(datarows[0:2])\n",
    "pprint.pprint(labelrows[0:2])\n",
    "for i in range(len(datarows)):\n",
    "    datarows[i].insert(0, labelrows[i])\n",
    "\n",
    "pprint.pprint(datarows[0:1])"
   ],
   "metadata": {
    "collapsed": false,
    "ExecuteTime": {
     "end_time": "2023-05-24T02:47:44.275976Z",
     "start_time": "2023-05-24T02:47:44.260625Z"
    }
   }
  },
  {
   "cell_type": "markdown",
   "source": [
    "## Load Data into Pandas"
   ],
   "metadata": {
    "collapsed": false
   }
  },
  {
   "cell_type": "code",
   "execution_count": 12,
   "outputs": [
    {
     "data": {
      "text/plain": "  rowheadings    Cases Deaths Cases per Million Deaths per Million  \\\n0     Algeria    9,394    653               214                 15   \n1     Austria   16,642    668              1848                 74   \n2  Bangladesh   47,153    650               286                  4   \n3     Belgium   58,381   9467              5037                817   \n4      Brazil  514,849  29314              2422                138   \n\n    population population_density median_age gdp_per_capita  \\\n0   43,851,043                 17         29         13,914   \n1    9,006,400                107         44         45,437   \n2  164,689,383               1265         28          3,524   \n3   11,589,616                376         42         42,659   \n4  212,559,409                 25         34         14,103   \n\n  hospital_beds_per_100k  \n0                    1.9  \n1                    7.4  \n2                    0.8  \n3                    5.6  \n4                    2.2  ",
      "text/html": "<div>\n<style scoped>\n    .dataframe tbody tr th:only-of-type {\n        vertical-align: middle;\n    }\n\n    .dataframe tbody tr th {\n        vertical-align: top;\n    }\n\n    .dataframe thead th {\n        text-align: right;\n    }\n</style>\n<table border=\"1\" class=\"dataframe\">\n  <thead>\n    <tr style=\"text-align: right;\">\n      <th></th>\n      <th>rowheadings</th>\n      <th>Cases</th>\n      <th>Deaths</th>\n      <th>Cases per Million</th>\n      <th>Deaths per Million</th>\n      <th>population</th>\n      <th>population_density</th>\n      <th>median_age</th>\n      <th>gdp_per_capita</th>\n      <th>hospital_beds_per_100k</th>\n    </tr>\n  </thead>\n  <tbody>\n    <tr>\n      <th>0</th>\n      <td>Algeria</td>\n      <td>9,394</td>\n      <td>653</td>\n      <td>214</td>\n      <td>15</td>\n      <td>43,851,043</td>\n      <td>17</td>\n      <td>29</td>\n      <td>13,914</td>\n      <td>1.9</td>\n    </tr>\n    <tr>\n      <th>1</th>\n      <td>Austria</td>\n      <td>16,642</td>\n      <td>668</td>\n      <td>1848</td>\n      <td>74</td>\n      <td>9,006,400</td>\n      <td>107</td>\n      <td>44</td>\n      <td>45,437</td>\n      <td>7.4</td>\n    </tr>\n    <tr>\n      <th>2</th>\n      <td>Bangladesh</td>\n      <td>47,153</td>\n      <td>650</td>\n      <td>286</td>\n      <td>4</td>\n      <td>164,689,383</td>\n      <td>1265</td>\n      <td>28</td>\n      <td>3,524</td>\n      <td>0.8</td>\n    </tr>\n    <tr>\n      <th>3</th>\n      <td>Belgium</td>\n      <td>58,381</td>\n      <td>9467</td>\n      <td>5037</td>\n      <td>817</td>\n      <td>11,589,616</td>\n      <td>376</td>\n      <td>42</td>\n      <td>42,659</td>\n      <td>5.6</td>\n    </tr>\n    <tr>\n      <th>4</th>\n      <td>Brazil</td>\n      <td>514,849</td>\n      <td>29314</td>\n      <td>2422</td>\n      <td>138</td>\n      <td>212,559,409</td>\n      <td>25</td>\n      <td>34</td>\n      <td>14,103</td>\n      <td>2.2</td>\n    </tr>\n  </tbody>\n</table>\n</div>"
     },
     "execution_count": 12,
     "metadata": {},
     "output_type": "execute_result"
    }
   ],
   "source": [
    "totalDeaths = pd.DataFrame(datarows, columns=labelcols)\n",
    "totalDeaths.head()"
   ],
   "metadata": {
    "collapsed": false,
    "ExecuteTime": {
     "end_time": "2023-05-24T02:50:52.545075Z",
     "start_time": "2023-05-24T02:50:52.525742Z"
    }
   }
  },
  {
   "cell_type": "code",
   "execution_count": 13,
   "outputs": [
    {
     "data": {
      "text/plain": "rowheadings               object\nCases                     object\nDeaths                    object\nCases per Million         object\nDeaths per Million        object\npopulation                object\npopulation_density        object\nmedian_age                object\ngdp_per_capita            object\nhospital_beds_per_100k    object\ndtype: object"
     },
     "execution_count": 13,
     "metadata": {},
     "output_type": "execute_result"
    }
   ],
   "source": [
    "totalDeaths.dtypes"
   ],
   "metadata": {
    "collapsed": false,
    "ExecuteTime": {
     "end_time": "2023-05-24T02:51:25.102759Z",
     "start_time": "2023-05-24T02:51:25.079605Z"
    }
   }
  },
  {
   "cell_type": "code",
   "execution_count": 14,
   "outputs": [],
   "source": [
    "totalDeaths.columns = totalDeaths.columns.str.replace(\" \", \"_\").str.lower()"
   ],
   "metadata": {
    "collapsed": false,
    "ExecuteTime": {
     "end_time": "2023-05-24T02:52:22.597932Z",
     "start_time": "2023-05-24T02:52:22.576382Z"
    }
   }
  },
  {
   "cell_type": "code",
   "execution_count": 15,
   "outputs": [
    {
     "name": "stderr",
     "output_type": "stream",
     "text": [
      "/var/folders/vh/9jy5nq5n6wl5cjp9y3m5l07w0000gn/T/ipykernel_19864/1469178818.py:2: FutureWarning: The default value of regex will change from True to False in a future version.\n",
      "  totalDeaths[col] = totalDeaths[col].str.replace(\"[^0-9]\", \"\").astype('int64')\n"
     ]
    }
   ],
   "source": [
    "for col in totalDeaths.columns[1:-1]:\n",
    "    totalDeaths[col] = totalDeaths[col].str.replace(\"[^0-9]\", \"\").astype('int64')"
   ],
   "metadata": {
    "collapsed": false,
    "ExecuteTime": {
     "end_time": "2023-05-24T02:57:02.443630Z",
     "start_time": "2023-05-24T02:57:02.426419Z"
    }
   }
  },
  {
   "cell_type": "code",
   "execution_count": 16,
   "outputs": [
    {
     "data": {
      "text/plain": "  rowheadings   cases  deaths  cases_per_million  deaths_per_million  \\\n0     Algeria    9394     653                214                  15   \n1     Austria   16642     668               1848                  74   \n2  Bangladesh   47153     650                286                   4   \n3     Belgium   58381    9467               5037                 817   \n4      Brazil  514849   29314               2422                 138   \n\n   population  population_density  median_age  gdp_per_capita  \\\n0    43851043                  17          29           13914   \n1     9006400                 107          44           45437   \n2   164689383                1265          28            3524   \n3    11589616                 376          42           42659   \n4   212559409                  25          34           14103   \n\n   hospital_beds_per_100k  \n0                     1.9  \n1                     7.4  \n2                     0.8  \n3                     5.6  \n4                     2.2  ",
      "text/html": "<div>\n<style scoped>\n    .dataframe tbody tr th:only-of-type {\n        vertical-align: middle;\n    }\n\n    .dataframe tbody tr th {\n        vertical-align: top;\n    }\n\n    .dataframe thead th {\n        text-align: right;\n    }\n</style>\n<table border=\"1\" class=\"dataframe\">\n  <thead>\n    <tr style=\"text-align: right;\">\n      <th></th>\n      <th>rowheadings</th>\n      <th>cases</th>\n      <th>deaths</th>\n      <th>cases_per_million</th>\n      <th>deaths_per_million</th>\n      <th>population</th>\n      <th>population_density</th>\n      <th>median_age</th>\n      <th>gdp_per_capita</th>\n      <th>hospital_beds_per_100k</th>\n    </tr>\n  </thead>\n  <tbody>\n    <tr>\n      <th>0</th>\n      <td>Algeria</td>\n      <td>9394</td>\n      <td>653</td>\n      <td>214</td>\n      <td>15</td>\n      <td>43851043</td>\n      <td>17</td>\n      <td>29</td>\n      <td>13914</td>\n      <td>1.9</td>\n    </tr>\n    <tr>\n      <th>1</th>\n      <td>Austria</td>\n      <td>16642</td>\n      <td>668</td>\n      <td>1848</td>\n      <td>74</td>\n      <td>9006400</td>\n      <td>107</td>\n      <td>44</td>\n      <td>45437</td>\n      <td>7.4</td>\n    </tr>\n    <tr>\n      <th>2</th>\n      <td>Bangladesh</td>\n      <td>47153</td>\n      <td>650</td>\n      <td>286</td>\n      <td>4</td>\n      <td>164689383</td>\n      <td>1265</td>\n      <td>28</td>\n      <td>3524</td>\n      <td>0.8</td>\n    </tr>\n    <tr>\n      <th>3</th>\n      <td>Belgium</td>\n      <td>58381</td>\n      <td>9467</td>\n      <td>5037</td>\n      <td>817</td>\n      <td>11589616</td>\n      <td>376</td>\n      <td>42</td>\n      <td>42659</td>\n      <td>5.6</td>\n    </tr>\n    <tr>\n      <th>4</th>\n      <td>Brazil</td>\n      <td>514849</td>\n      <td>29314</td>\n      <td>2422</td>\n      <td>138</td>\n      <td>212559409</td>\n      <td>25</td>\n      <td>34</td>\n      <td>14103</td>\n      <td>2.2</td>\n    </tr>\n  </tbody>\n</table>\n</div>"
     },
     "execution_count": 16,
     "metadata": {},
     "output_type": "execute_result"
    }
   ],
   "source": [
    "totalDeaths['hospital_beds_per_100k'] = totalDeaths['hospital_beds_per_100k'].astype('float')\n",
    "totalDeaths.head()"
   ],
   "metadata": {
    "collapsed": false,
    "ExecuteTime": {
     "end_time": "2023-05-24T02:58:17.701327Z",
     "start_time": "2023-05-24T02:58:17.688831Z"
    }
   }
  },
  {
   "cell_type": "code",
   "execution_count": null,
   "outputs": [],
   "source": [],
   "metadata": {
    "collapsed": false
   }
  }
 ],
 "metadata": {
  "kernelspec": {
   "display_name": "Python 3",
   "language": "python",
   "name": "python3"
  },
  "language_info": {
   "codemirror_mode": {
    "name": "ipython",
    "version": 2
   },
   "file_extension": ".py",
   "mimetype": "text/x-python",
   "name": "python",
   "nbconvert_exporter": "python",
   "pygments_lexer": "ipython2",
   "version": "2.7.6"
  }
 },
 "nbformat": 4,
 "nbformat_minor": 0
}
